{
 "cells": [
  {
   "cell_type": "markdown",
   "metadata": {},
   "source": [
    "# Continuous Control\n",
    "\n",
    "---\n",
    "\n",
    "In this notebook, you will learn how to use the Unity ML-Agents environment for the second project of the [Deep Reinforcement Learning Nanodegree](https://www.udacity.com/course/deep-reinforcement-learning-nanodegree--nd893) program.\n",
    "\n",
    "### 1. Start the Environment\n",
    "\n",
    "We begin by importing the necessary packages.  If the code cell below returns an error, please revisit the project instructions to double-check that you have installed [Unity ML-Agents](https://github.com/Unity-Technologies/ml-agents/blob/master/docs/Installation.md) and [NumPy](http://www.numpy.org/)."
   ]
  },
  {
   "cell_type": "code",
   "execution_count": 1,
   "metadata": {},
   "outputs": [],
   "source": [
    "!pip -q install ./python"
   ]
  },
  {
   "cell_type": "code",
   "execution_count": 2,
   "metadata": {},
   "outputs": [],
   "source": [
    "from unityagents import UnityEnvironment\n",
    "from collections import namedtuple, deque\n",
    "import numpy as np\n",
    "import torch\n",
    "import time\n",
    "from ddpg_agent import Agent\n",
    "\n",
    "import matplotlib.pyplot as plt\n",
    "%matplotlib inline"
   ]
  },
  {
   "cell_type": "markdown",
   "metadata": {},
   "source": [
    "The environments corresponding to both versions of the environment are already saved in the Udacity Workspace and can be accessed at the file paths provided below.  \n",
    "\n",
    "Please select one of the two options below for loading the environment."
   ]
  },
  {
   "cell_type": "code",
   "execution_count": 3,
   "metadata": {
    "scrolled": true
   },
   "outputs": [
    {
     "name": "stderr",
     "output_type": "stream",
     "text": [
      "INFO:unityagents:\n",
      "'Academy' started successfully!\n",
      "Unity Academy name: Academy\n",
      "        Number of Brains: 1\n",
      "        Number of External Brains : 1\n",
      "        Lesson number : 0\n",
      "        Reset Parameters :\n",
      "\t\tgoal_speed -> 1.0\n",
      "\t\tgoal_size -> 5.0\n",
      "Unity brain name: ReacherBrain\n",
      "        Number of Visual Observations (per agent): 0\n",
      "        Vector Observation space type: continuous\n",
      "        Vector Observation space size (per agent): 33\n",
      "        Number of stacked Vector Observation: 1\n",
      "        Vector Action space type: continuous\n",
      "        Vector Action space size (per agent): 4\n",
      "        Vector Action descriptions: , , , \n"
     ]
    }
   ],
   "source": [
    "# select this option to load version 1 (with a single agent) of the environment\n",
    "#env = UnityEnvironment(file_name='/data/Reacher_One_Linux_NoVis/Reacher_One_Linux_NoVis.x86_64')\n",
    "\n",
    "# select this option to load version 2 (with 20 agents) of the environment\n",
    "env = UnityEnvironment(file_name='/data/Reacher_Linux_NoVis/Reacher.x86_64')"
   ]
  },
  {
   "cell_type": "markdown",
   "metadata": {},
   "source": [
    "Alternatively you can download the environment as follows:"
   ]
  },
  {
   "cell_type": "code",
   "execution_count": 4,
   "metadata": {},
   "outputs": [],
   "source": [
    "#!wget -N https://s3-us-west-1.amazonaws.com/udacity-drlnd/P2/Reacher/Reacher_Linux_NoVis.zip\n",
    "#!wget -N https://s3-us-west-1.amazonaws.com/udacity-drlnd/P2/Reacher/one_agent/Reacher_Linux_NoVis.zip\n",
    "#!unzip Reacher_Linux_NoVis.zip\n",
    "#!rm *.zip\n",
    "#!chmod +x ./Reacher_Linux_NoVis/Reacher.x86_64"
   ]
  },
  {
   "cell_type": "markdown",
   "metadata": {},
   "source": [
    "Next, we will start the environment!  **_Before running the code cell below_**, change the `file_name` parameter to match the location of the Unity environment that you downloaded.\n",
    "\n",
    "- **Mac**: `\"path/to/Reacher.app\"`\n",
    "- **Windows** (x86): `\"path/to/Reacher_Windows_x86/Reacher.exe\"`\n",
    "- **Windows** (x86_64): `\"path/to/Reacher_Windows_x86_64/Reacher.exe\"`\n",
    "- **Linux** (x86): `\"path/to/Reacher_Linux/Reacher.x86\"`\n",
    "- **Linux** (x86_64): `\"path/to/Reacher_Linux/Reacher.x86_64\"`\n",
    "- **Linux** (x86, headless): `\"path/to/Reacher_Linux_NoVis/Reacher.x86\"`\n",
    "- **Linux** (x86_64, headless): `\"path/to/Reacher_Linux_NoVis/Reacher.x86_64\"`\n",
    "\n",
    "For instance, if you are using a Mac, then you downloaded `Reacher.app`.  If this file is in the same folder as the notebook, then the line below should appear as follows:\n",
    "```\n",
    "env = UnityEnvironment(file_name=\"Reacher.app\")\n",
    "```"
   ]
  },
  {
   "cell_type": "code",
   "execution_count": 5,
   "metadata": {},
   "outputs": [],
   "source": [
    "#env = UnityEnvironment(file_name='Reacher.app')"
   ]
  },
  {
   "cell_type": "markdown",
   "metadata": {},
   "source": [
    "Environments contain **_brains_** which are responsible for deciding the actions of their associated agents. Here we check for the first brain available, and set it as the default brain we will be controlling from Python."
   ]
  },
  {
   "cell_type": "code",
   "execution_count": 6,
   "metadata": {},
   "outputs": [],
   "source": [
    "# get the default brain\n",
    "brain_name = env.brain_names[0]\n",
    "brain = env.brains[brain_name]"
   ]
  },
  {
   "cell_type": "markdown",
   "metadata": {},
   "source": [
    "### 2. Examine the State and Action Spaces\n",
    "\n",
    "In this environment, a double-jointed arm can move to target locations. A reward of `+0.1` is provided for each step that the agent's hand is in the goal location. Thus, the goal of your agent is to maintain its position at the target location for as many time steps as possible.\n",
    "\n",
    "The observation space consists of `33` variables corresponding to position, rotation, velocity, and angular velocities of the arm.  Each action is a vector with four numbers, corresponding to torque applicable to two joints.  Every entry in the action vector must be a number between `-1` and `1`.\n",
    "\n",
    "Run the code cell below to print some information about the environment."
   ]
  },
  {
   "cell_type": "code",
   "execution_count": 7,
   "metadata": {},
   "outputs": [
    {
     "name": "stdout",
     "output_type": "stream",
     "text": [
      "Number of agents: 20\n",
      "Size of each action: 4\n",
      "There are 20 agents. Each observes a state with length: 33\n",
      "The state for the first agent looks like: [  0.00000000e+00  -4.00000000e+00   0.00000000e+00   1.00000000e+00\n",
      "  -0.00000000e+00  -0.00000000e+00  -4.37113883e-08   0.00000000e+00\n",
      "   0.00000000e+00   0.00000000e+00   0.00000000e+00   0.00000000e+00\n",
      "   0.00000000e+00   0.00000000e+00  -1.00000000e+01   0.00000000e+00\n",
      "   1.00000000e+00  -0.00000000e+00  -0.00000000e+00  -4.37113883e-08\n",
      "   0.00000000e+00   0.00000000e+00   0.00000000e+00   0.00000000e+00\n",
      "   0.00000000e+00   0.00000000e+00   5.75471878e+00  -1.00000000e+00\n",
      "   5.55726624e+00   0.00000000e+00   1.00000000e+00   0.00000000e+00\n",
      "  -1.68164849e-01]\n"
     ]
    }
   ],
   "source": [
    "# reset the environment\n",
    "env_info = env.reset(train_mode=True)[brain_name]\n",
    "\n",
    "# number of agents\n",
    "num_agents = len(env_info.agents)\n",
    "print('Number of agents:', num_agents)\n",
    "\n",
    "# size of each action\n",
    "action_size = brain.vector_action_space_size\n",
    "print('Size of each action:', action_size)\n",
    "\n",
    "# examine the state space \n",
    "states = env_info.vector_observations\n",
    "state_size = states.shape[1]\n",
    "print('There are {} agents. Each observes a state with length: {}'.format(states.shape[0], state_size))\n",
    "print('The state for the first agent looks like:', states[0])"
   ]
  },
  {
   "cell_type": "markdown",
   "metadata": {},
   "source": [
    "### 3. Set Up Hyperparameters And Create The DDPG Agent"
   ]
  },
  {
   "cell_type": "code",
   "execution_count": 8,
   "metadata": {},
   "outputs": [],
   "source": [
    "BATCH_SIZE = 128        # minibatch size\n",
    "BUFFER_SIZE = int(1e5)  # replay buffer size\n",
    "GAMMA = 0.99            # discount factor\n",
    "TAU = 1e-3              # for soft update of target parameters\n",
    "LR_ACTOR = 1e-4         # learning rate of the actor\n",
    "LR_CRITIC = 1e-4        # learning rate of the critic\n",
    "WEIGHT_DECAY = 0        # L2 weight decay\n",
    "EPSILON_START = 1.0     # Starting value of noise scaling parameter\n",
    "EPSILON_END=0.01        # Minimum allowed value of noise scaling parameter\n",
    "EPSILON_DECAY = 1e-6    # Decay rate of noise scaling parameter\n",
    "\n",
    "device = torch.device(\"cuda:0\" if torch.cuda.is_available() else \"cpu\")\n",
    "\n",
    "agent = Agent(num_agents, state_size, action_size, random_seed=0, \n",
    "              gamma=GAMMA, tau=TAU, epsilon_start=EPSILON_START, epsilon_end=EPSILON_END,\n",
    "              epsilon_decay=EPSILON_DECAY, weight_decay=WEIGHT_DECAY, replay_buffer_size=BUFFER_SIZE,\n",
    "              batch_size=BATCH_SIZE, lr_actor=LR_ACTOR, lr_critic=LR_CRITIC)"
   ]
  },
  {
   "cell_type": "markdown",
   "metadata": {},
   "source": [
    "### 4. Train The DDPG Agent"
   ]
  },
  {
   "cell_type": "code",
   "execution_count": 9,
   "metadata": {},
   "outputs": [],
   "source": [
    "def ddpg(n_episodes=1000, scores_window_len=100, target_score=30.0, target_score_time=100):\n",
    "    scores_window = deque(maxlen=scores_window_len)\n",
    "    all_scores = []\n",
    "        \n",
    "    for i_episode in range(1, n_episodes+1):\n",
    "        env_info = env.reset(train_mode=True)[brain_name]      # reset the environment    \n",
    "        states = env_info.vector_observations                  # get the current state (for each agent)\n",
    "        scores = np.zeros(num_agents)                          # initialize the score (for each agent)\n",
    "        agent.reset()\n",
    "        \n",
    "        t = time.time()\n",
    "        while True:\n",
    "            actions = agent.act(states)                        # select an action (for each agent)\n",
    "            env_info = env.step(actions)[brain_name]           # send all actions to tne environment\n",
    "            next_states = env_info.vector_observations         # get next state (for each agent)\n",
    "            rewards = env_info.rewards                         # get reward (for each agent)\n",
    "            dones = env_info.local_done                        # see if episode finished\n",
    "            agent.step(states, actions, rewards, next_states, dones)\n",
    "            states = next_states                               # roll over states to next time step\n",
    "            scores += rewards                                  # update the score (for each agent)\n",
    "            if np.any(dones):                                  # exit loop if episode finished\n",
    "                break\n",
    "        \n",
    "        current_episode_avg_score = np.mean(scores)\n",
    "        scores_window.append(current_episode_avg_score)\n",
    "        all_scores.append(current_episode_avg_score)\n",
    "        average_score = np.mean(scores_window)\n",
    "        \n",
    "        print('\\rEpisode {}: Reward: Mean {:.2f}, Max: {:.2f}, Min: {:.2f} ... Average Reward {:.2f}   Time: {:.2f}'\\\n",
    "              .format(i_episode, current_episode_avg_score, np.max(scores), np.min(scores), average_score, time.time() - t))        \n",
    "        \n",
    "        #if i_episode % 10 == 0:\n",
    "        #    torch.save(agent.actor_local.state_dict(), 'checkpoint_actor.pth')\n",
    "        #    torch.save(agent.critic_local.state_dict(), 'checkpoint_critic.pth')\n",
    "            \n",
    "        if average_score >= target_score and len(scores_window) >= target_score_time:\n",
    "            print('\\nEnvironment solved in {:d} episodes!\\tAverage Score: {:.2f}'.format(i_episode, average_score))            \n",
    "            torch.save(agent.actor_local.state_dict(), 'actor_model.pth')\n",
    "            torch.save(agent.critic_local.state_dict(), 'critic_model.pth')\n",
    "            break            \n",
    "            \n",
    "    return all_scores"
   ]
  },
  {
   "cell_type": "code",
   "execution_count": 10,
   "metadata": {},
   "outputs": [
    {
     "name": "stdout",
     "output_type": "stream",
     "text": [
      "Episode 1: Reward: Mean 0.53, Max: 1.52, Min: 0.00 ... Average Reward 0.53   Time: 19.44\n",
      "Episode 2: Reward: Mean 0.59, Max: 1.55, Min: 0.00 ... Average Reward 0.56   Time: 19.75\n",
      "Episode 3: Reward: Mean 0.90, Max: 2.11, Min: 0.11 ... Average Reward 0.67   Time: 19.60\n",
      "Episode 4: Reward: Mean 0.85, Max: 2.35, Min: 0.12 ... Average Reward 0.72   Time: 19.89\n",
      "Episode 5: Reward: Mean 1.07, Max: 2.01, Min: 0.27 ... Average Reward 0.79   Time: 19.79\n",
      "Episode 6: Reward: Mean 1.75, Max: 3.93, Min: 0.34 ... Average Reward 0.95   Time: 20.04\n",
      "Episode 7: Reward: Mean 2.13, Max: 4.42, Min: 1.00 ... Average Reward 1.12   Time: 20.11\n",
      "Episode 8: Reward: Mean 1.80, Max: 2.67, Min: 0.81 ... Average Reward 1.20   Time: 20.69\n",
      "Episode 9: Reward: Mean 2.02, Max: 3.34, Min: 0.64 ... Average Reward 1.29   Time: 20.26\n",
      "Episode 10: Reward: Mean 2.11, Max: 4.96, Min: 0.44 ... Average Reward 1.38   Time: 19.99\n",
      "Episode 11: Reward: Mean 2.10, Max: 3.61, Min: 0.50 ... Average Reward 1.44   Time: 20.23\n",
      "Episode 12: Reward: Mean 2.79, Max: 5.84, Min: 0.54 ... Average Reward 1.55   Time: 20.13\n",
      "Episode 13: Reward: Mean 2.75, Max: 5.52, Min: 0.62 ... Average Reward 1.65   Time: 20.33\n",
      "Episode 14: Reward: Mean 3.66, Max: 9.92, Min: 0.75 ... Average Reward 1.79   Time: 19.48\n",
      "Episode 15: Reward: Mean 4.45, Max: 9.21, Min: 1.59 ... Average Reward 1.97   Time: 20.09\n",
      "Episode 16: Reward: Mean 5.40, Max: 11.34, Min: 1.22 ... Average Reward 2.18   Time: 19.63\n",
      "Episode 17: Reward: Mean 6.28, Max: 12.23, Min: 1.23 ... Average Reward 2.42   Time: 19.87\n",
      "Episode 18: Reward: Mean 7.53, Max: 13.02, Min: 1.96 ... Average Reward 2.71   Time: 19.87\n",
      "Episode 19: Reward: Mean 10.32, Max: 15.08, Min: 4.55 ... Average Reward 3.11   Time: 19.77\n",
      "Episode 20: Reward: Mean 11.49, Max: 20.21, Min: 3.79 ... Average Reward 3.53   Time: 19.99\n",
      "Episode 21: Reward: Mean 16.56, Max: 27.74, Min: 8.00 ... Average Reward 4.15   Time: 19.67\n",
      "Episode 22: Reward: Mean 19.29, Max: 28.17, Min: 10.55 ... Average Reward 4.84   Time: 19.51\n",
      "Episode 23: Reward: Mean 25.30, Max: 35.62, Min: 15.68 ... Average Reward 5.73   Time: 19.79\n",
      "Episode 24: Reward: Mean 26.01, Max: 33.40, Min: 17.79 ... Average Reward 6.57   Time: 19.82\n",
      "Episode 25: Reward: Mean 28.24, Max: 34.68, Min: 18.55 ... Average Reward 7.44   Time: 20.00\n",
      "Episode 26: Reward: Mean 32.01, Max: 36.84, Min: 27.26 ... Average Reward 8.38   Time: 19.95\n",
      "Episode 27: Reward: Mean 34.84, Max: 38.58, Min: 30.68 ... Average Reward 9.36   Time: 19.93\n",
      "Episode 28: Reward: Mean 35.80, Max: 39.14, Min: 32.82 ... Average Reward 10.31   Time: 20.19\n",
      "Episode 29: Reward: Mean 36.58, Max: 38.82, Min: 34.72 ... Average Reward 11.21   Time: 20.09\n",
      "Episode 30: Reward: Mean 36.45, Max: 39.07, Min: 32.95 ... Average Reward 12.05   Time: 19.89\n",
      "Episode 31: Reward: Mean 37.07, Max: 38.57, Min: 34.75 ... Average Reward 12.86   Time: 20.18\n",
      "Episode 32: Reward: Mean 37.66, Max: 39.60, Min: 35.55 ... Average Reward 13.64   Time: 19.73\n",
      "Episode 33: Reward: Mean 37.57, Max: 39.47, Min: 35.58 ... Average Reward 14.36   Time: 19.75\n",
      "Episode 34: Reward: Mean 37.74, Max: 39.44, Min: 34.16 ... Average Reward 15.05   Time: 20.11\n",
      "Episode 35: Reward: Mean 37.30, Max: 39.61, Min: 32.91 ... Average Reward 15.68   Time: 20.10\n",
      "Episode 36: Reward: Mean 37.59, Max: 39.55, Min: 33.83 ... Average Reward 16.29   Time: 19.95\n",
      "Episode 37: Reward: Mean 37.96, Max: 39.24, Min: 35.15 ... Average Reward 16.88   Time: 20.27\n",
      "Episode 38: Reward: Mean 38.19, Max: 39.37, Min: 36.47 ... Average Reward 17.44   Time: 19.97\n",
      "Episode 39: Reward: Mean 37.88, Max: 39.64, Min: 35.95 ... Average Reward 17.96   Time: 20.14\n",
      "Episode 40: Reward: Mean 38.12, Max: 39.62, Min: 36.08 ... Average Reward 18.47   Time: 20.23\n",
      "Episode 41: Reward: Mean 38.31, Max: 39.66, Min: 35.69 ... Average Reward 18.95   Time: 20.05\n",
      "Episode 42: Reward: Mean 37.84, Max: 39.33, Min: 36.17 ... Average Reward 19.40   Time: 20.11\n",
      "Episode 43: Reward: Mean 37.66, Max: 39.25, Min: 36.18 ... Average Reward 19.83   Time: 20.50\n",
      "Episode 44: Reward: Mean 37.80, Max: 39.60, Min: 34.98 ... Average Reward 20.23   Time: 19.24\n",
      "Episode 45: Reward: Mean 37.91, Max: 39.38, Min: 34.73 ... Average Reward 20.63   Time: 19.49\n",
      "Episode 46: Reward: Mean 38.06, Max: 39.35, Min: 36.14 ... Average Reward 21.01   Time: 19.58\n",
      "Episode 47: Reward: Mean 38.15, Max: 39.61, Min: 35.74 ... Average Reward 21.37   Time: 19.42\n",
      "Episode 48: Reward: Mean 37.78, Max: 39.63, Min: 35.05 ... Average Reward 21.71   Time: 19.68\n",
      "Episode 49: Reward: Mean 37.16, Max: 38.94, Min: 33.88 ... Average Reward 22.03   Time: 19.26\n",
      "Episode 50: Reward: Mean 37.91, Max: 39.54, Min: 35.91 ... Average Reward 22.35   Time: 19.55\n",
      "Episode 51: Reward: Mean 37.47, Max: 39.44, Min: 33.55 ... Average Reward 22.64   Time: 19.26\n",
      "Episode 52: Reward: Mean 37.76, Max: 39.40, Min: 35.46 ... Average Reward 22.93   Time: 19.20\n",
      "Episode 53: Reward: Mean 38.03, Max: 39.28, Min: 36.33 ... Average Reward 23.22   Time: 20.03\n",
      "Episode 54: Reward: Mean 37.62, Max: 39.46, Min: 35.68 ... Average Reward 23.48   Time: 20.14\n",
      "Episode 55: Reward: Mean 37.69, Max: 39.42, Min: 34.25 ... Average Reward 23.74   Time: 19.88\n",
      "Episode 56: Reward: Mean 37.53, Max: 39.55, Min: 34.12 ... Average Reward 23.99   Time: 20.09\n",
      "Episode 57: Reward: Mean 37.71, Max: 39.11, Min: 33.90 ... Average Reward 24.23   Time: 20.21\n",
      "Episode 58: Reward: Mean 37.43, Max: 39.01, Min: 35.27 ... Average Reward 24.46   Time: 20.21\n",
      "Episode 59: Reward: Mean 37.27, Max: 39.61, Min: 32.66 ... Average Reward 24.67   Time: 20.52\n",
      "Episode 60: Reward: Mean 37.30, Max: 39.39, Min: 30.52 ... Average Reward 24.89   Time: 20.34\n",
      "Episode 61: Reward: Mean 37.41, Max: 39.56, Min: 35.80 ... Average Reward 25.09   Time: 20.33\n",
      "Episode 62: Reward: Mean 38.19, Max: 39.54, Min: 35.79 ... Average Reward 25.30   Time: 19.84\n",
      "Episode 63: Reward: Mean 37.65, Max: 38.86, Min: 35.56 ... Average Reward 25.50   Time: 19.98\n",
      "Episode 64: Reward: Mean 37.74, Max: 39.50, Min: 34.81 ... Average Reward 25.69   Time: 19.93\n",
      "Episode 65: Reward: Mean 37.60, Max: 39.34, Min: 32.25 ... Average Reward 25.87   Time: 19.71\n",
      "Episode 66: Reward: Mean 37.47, Max: 39.40, Min: 33.00 ... Average Reward 26.05   Time: 20.14\n",
      "Episode 67: Reward: Mean 37.30, Max: 39.66, Min: 32.30 ... Average Reward 26.22   Time: 19.71\n",
      "Episode 68: Reward: Mean 36.77, Max: 39.33, Min: 33.32 ... Average Reward 26.37   Time: 20.05\n",
      "Episode 69: Reward: Mean 37.63, Max: 39.15, Min: 35.67 ... Average Reward 26.53   Time: 20.38\n",
      "Episode 70: Reward: Mean 38.03, Max: 39.62, Min: 33.94 ... Average Reward 26.70   Time: 20.12\n",
      "Episode 71: Reward: Mean 37.89, Max: 39.31, Min: 34.67 ... Average Reward 26.86   Time: 19.69\n",
      "Episode 72: Reward: Mean 38.00, Max: 39.47, Min: 35.88 ... Average Reward 27.01   Time: 20.02\n",
      "Episode 73: Reward: Mean 37.93, Max: 39.01, Min: 36.16 ... Average Reward 27.16   Time: 20.09\n",
      "Episode 74: Reward: Mean 38.12, Max: 39.64, Min: 36.34 ... Average Reward 27.31   Time: 19.66\n",
      "Episode 75: Reward: Mean 37.41, Max: 39.32, Min: 32.63 ... Average Reward 27.44   Time: 19.46\n",
      "Episode 76: Reward: Mean 38.01, Max: 39.44, Min: 35.85 ... Average Reward 27.58   Time: 19.26\n",
      "Episode 77: Reward: Mean 37.24, Max: 39.55, Min: 32.46 ... Average Reward 27.71   Time: 19.57\n",
      "Episode 78: Reward: Mean 37.42, Max: 39.08, Min: 34.55 ... Average Reward 27.83   Time: 19.43\n",
      "Episode 79: Reward: Mean 37.75, Max: 39.54, Min: 34.56 ... Average Reward 27.96   Time: 19.41\n",
      "Episode 80: Reward: Mean 37.60, Max: 38.95, Min: 35.55 ... Average Reward 28.08   Time: 19.89\n",
      "Episode 81: Reward: Mean 37.93, Max: 39.66, Min: 36.06 ... Average Reward 28.20   Time: 19.03\n",
      "Episode 82: Reward: Mean 35.95, Max: 39.25, Min: 29.45 ... Average Reward 28.30   Time: 18.81\n",
      "Episode 83: Reward: Mean 35.94, Max: 38.68, Min: 27.28 ... Average Reward 28.39   Time: 19.40\n",
      "Episode 84: Reward: Mean 36.68, Max: 39.34, Min: 30.58 ... Average Reward 28.49   Time: 19.84\n",
      "Episode 85: Reward: Mean 36.94, Max: 39.48, Min: 31.26 ... Average Reward 28.59   Time: 19.89\n",
      "Episode 86: Reward: Mean 37.12, Max: 38.45, Min: 34.65 ... Average Reward 28.68   Time: 20.14\n",
      "Episode 87: Reward: Mean 37.64, Max: 39.60, Min: 35.07 ... Average Reward 28.79   Time: 20.41\n",
      "Episode 88: Reward: Mean 37.47, Max: 38.90, Min: 33.75 ... Average Reward 28.89   Time: 20.26\n",
      "Episode 89: Reward: Mean 37.12, Max: 39.43, Min: 34.15 ... Average Reward 28.98   Time: 20.16\n",
      "Episode 90: Reward: Mean 37.95, Max: 39.54, Min: 35.24 ... Average Reward 29.08   Time: 20.39\n",
      "Episode 91: Reward: Mean 38.55, Max: 39.57, Min: 35.80 ... Average Reward 29.18   Time: 20.05\n",
      "Episode 92: Reward: Mean 38.24, Max: 39.58, Min: 35.70 ... Average Reward 29.28   Time: 19.77\n",
      "Episode 93: Reward: Mean 38.23, Max: 39.57, Min: 36.18 ... Average Reward 29.38   Time: 19.75\n",
      "Episode 94: Reward: Mean 38.37, Max: 39.59, Min: 35.70 ... Average Reward 29.47   Time: 19.79\n",
      "Episode 95: Reward: Mean 38.11, Max: 39.62, Min: 34.47 ... Average Reward 29.56   Time: 19.62\n",
      "Episode 96: Reward: Mean 38.29, Max: 39.56, Min: 36.98 ... Average Reward 29.65   Time: 19.87\n",
      "Episode 97: Reward: Mean 37.33, Max: 39.70, Min: 31.80 ... Average Reward 29.73   Time: 19.97\n",
      "Episode 98: Reward: Mean 37.22, Max: 39.21, Min: 34.91 ... Average Reward 29.81   Time: 19.90\n",
      "Episode 99: Reward: Mean 37.31, Max: 39.68, Min: 31.14 ... Average Reward 29.89   Time: 19.96\n",
      "Episode 100: Reward: Mean 38.16, Max: 39.53, Min: 36.64 ... Average Reward 29.97   Time: 20.14\n",
      "Episode 101: Reward: Mean 38.09, Max: 39.62, Min: 36.00 ... Average Reward 30.34   Time: 20.32\n",
      "\n",
      "Environment solved in 101 episodes!\tAverage Score: 30.34\n"
     ]
    }
   ],
   "source": [
    "scores = ddpg()"
   ]
  },
  {
   "cell_type": "code",
   "execution_count": 11,
   "metadata": {},
   "outputs": [
    {
     "data": {
      "image/png": "[encoded data removed]",
      "text/plain": [
       "<matplotlib.figure.Figure at 0x7f4d2ad17400>"
      ]
     },
     "metadata": {
      "needs_background": "light"
     },
     "output_type": "display_data"
    }
   ],
   "source": [
    "fig = plt.figure()\n",
    "ax = fig.add_subplot(111)\n",
    "plt.plot(np.arange(1, len(scores)+1), scores)\n",
    "plt.ylabel('Score')\n",
    "plt.xlabel('Episode #')\n",
    "plt.show()"
   ]
  },
  {
   "cell_type": "markdown",
   "metadata": {},
   "source": [
    "### 6. Load the saved agent and run it!"
   ]
  },
  {
   "cell_type": "code",
   "execution_count": 12,
   "metadata": {},
   "outputs": [],
   "source": [
    "agent.actor_local.load_state_dict(torch.load('actor_model.pth'))\n",
    "agent.critic_local.load_state_dict(torch.load('critic_model.pth'))\n",
    "\n",
    "env_info = env.reset(train_mode=False)[brain_name]        \n",
    "states = env_info.vector_observations                  \n",
    "scores = np.zeros(num_agents)                          \n",
    "\n",
    "for i in range(1000):\n",
    "    actions = agent.act(states, 1.0)                    \n",
    "    env_info = env.step(actions)[brain_name]        \n",
    "    next_states = env_info.vector_observations        \n",
    "    rewards = env_info.rewards                        \n",
    "    dones = env_info.local_done                 \n",
    "    scores += rewards                         \n",
    "    states = next_states                              \n",
    "    if np.any(dones):                              \n",
    "        break\n",
    "        \n",
    "env.close()        "
   ]
  }
 ],
 "metadata": {
  "kernelspec": {
   "display_name": "Python 3",
   "language": "python",
   "name": "python3"
  },
  "language_info": {
   "codemirror_mode": {
    "name": "ipython",
    "version": 3
   },
   "file_extension": ".py",
   "mimetype": "text/x-python",
   "name": "python",
   "nbconvert_exporter": "python",
   "pygments_lexer": "ipython3",
   "version": "3.6.3"
  }
 },
 "nbformat": 4,
 "nbformat_minor": 2
}
